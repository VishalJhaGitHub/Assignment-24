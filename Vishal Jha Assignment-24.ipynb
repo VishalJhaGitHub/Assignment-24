{
 "cells": [
  {
   "cell_type": "code",
   "execution_count": null,
   "id": "07c27a7c-b6c4-41ce-b8a2-f90caf9f71e1",
   "metadata": {},
   "outputs": [],
   "source": [
    "#Consider following code to answer further questions:\n",
    "\n",
    "#import pandas as pd\n",
    "\n",
    "#course_name = [‘Data Science’, ‘Machine Learning’, ‘Big Data’, ‘Data Engineer’]\n",
    "\n",
    "#duration = [2,3,6,4]\n",
    "\n",
    "#df = pd.DataFrame(data = {‘course_name’ : course_name, ‘duration’ : duration})"
   ]
  },
  {
   "cell_type": "code",
   "execution_count": 1,
   "id": "2ed22b19-7c84-4a3b-9073-df65b97480fe",
   "metadata": {},
   "outputs": [
    {
     "name": "stdout",
     "output_type": "stream",
     "text": [
      "course_name    Machine Learning\n",
      "duration                      3\n",
      "Name: 1, dtype: object\n"
     ]
    }
   ],
   "source": [
    "#1. Write a code to print the data present in the second row of the dataframe, df.\n",
    "\n",
    "#Ans\n",
    "\n",
    "import pandas as pd\n",
    "course_name = ['Data Science', 'Machine Learning', 'Big Data', 'Data Engineer']\n",
    "duration = [2, 3, 6, 4]\n",
    "df = pd.DataFrame(data={'course_name': course_name, 'duration': duration})\n",
    "print(df.iloc[1])"
   ]
  },
  {
   "cell_type": "code",
   "execution_count": null,
   "id": "f6d5ee8c-37cc-48bf-972f-20c3e5b895e7",
   "metadata": {},
   "outputs": [],
   "source": [
    "#2. What is the difference between the functions loc and iloc in pandas.DataFrame\n",
    "\n",
    "#Ans\n",
    "\n",
    "#The main difference between the loc and iloc functions in a pandas.DataFrame is the way they index rows and columns.\n",
    "\n",
    "#loc is used to select rows and columns by label. It means that you use the actual row and column labels to select specific data. For example, if you have a DataFrame with row labels ['A', 'B', 'C'] and column labels ['X', 'Y', 'Z'], you can use loc to select a specific value like this:\n",
    "\n",
    "df.loc['B', 'Y']  # Select the value in row B and column Y\n",
    "\n",
    "#You can also use loc to select all rows or columns up to a specific label, like this:\n",
    "\n",
    "df.loc[:'B', 'X']  # Select all rows up to B and the column X\n",
    "\n",
    "#iloc is used to select rows and columns by integer index. It means that you use the integer position of rows and columns to select specific data. For example, if you have a DataFrame with 3 rows and 3 columns, you can use iloc to select a specific value like this:\n",
    "\n",
    "df.iloc[1, 2]  # Select the value in row 1 (the second row) and column 2 (the third column)\n",
    "\n",
    "#You can also use iloc to select all rows or columns up to a specific integer index, like this:\n",
    "\n",
    "df.iloc[:2, 0]  # Select the first 2 rows and the first column"
   ]
  },
  {
   "cell_type": "code",
   "execution_count": 3,
   "id": "018eddd3-5bf8-4e5a-aed4-4488566b325a",
   "metadata": {},
   "outputs": [
    {
     "name": "stdout",
     "output_type": "stream",
     "text": [
      "column_1    0.376515\n",
      "column_2    0.812389\n",
      "column_3    0.463534\n",
      "column_4    0.500665\n",
      "column_5    0.169144\n",
      "column_6    0.066395\n",
      "Name: 2, dtype: float64\n",
      "column_1    0.634683\n",
      "column_2    0.922587\n",
      "column_3    0.141655\n",
      "column_4    0.933886\n",
      "column_5    0.163198\n",
      "column_6    0.134523\n",
      "Name: 1, dtype: float64\n"
     ]
    }
   ],
   "source": [
    "#3. Reindex the given dataframe using a variable, reindex = [3,0,1,2] and store it in the variable, new_df then find the output for both new_df.loc[2] and new_df.iloc[2].\n",
    "\n",
    "#Did you observe any difference in both the outputs? If so then explain it.\n",
    "\n",
    "#Consider the below code to answer further questions:\n",
    "\n",
    "#import pandas as pd\n",
    "\n",
    "#import numpy as np\n",
    "\n",
    "#columns = ['column_1', 'column_2', 'column_3', 'column_4', 'column_5', 'column_6']\n",
    "\n",
    "#indices = [1,2,3,4,5,6]\n",
    "\n",
    "#Creating a dataframe:\n",
    "\n",
    "#df1 = pd.DataFrame(np.random.rand(6,6), columns = columns, index = indices)\n",
    "\n",
    "#Ans\n",
    "\n",
    "import pandas as pd\n",
    "import numpy as np\n",
    "# Creating a dataframe\n",
    "columns = ['column_1', 'column_2', 'column_3', 'column_4', 'column_5', 'column_6']\n",
    "indices = [1,2,3,4,5,6]\n",
    "df1 = pd.DataFrame(np.random.rand(6,6), columns = columns, index = indices)\n",
    "# Reindexing the dataframe\n",
    "reindex = [3,0,1,2]\n",
    "new_df = df1.reindex(reindex)\n",
    "# Finding the output for new_df.loc[2] and new_df.iloc[2]\n",
    "print(new_df.loc[2])\n",
    "print(new_df.iloc[2])\n",
    "\n",
    "#We observe that there is a difference in the outputs. When we use loc to access a row by its index label, it returns the row with that label. However, when we use iloc to access a row by its integer location, it returns the row with that position.\n",
    "\n",
    "#In our case, since we have reindexed the original dataframe, the labels and positions of the rows have changed. Thus, when we use loc[2], it returns the row with the label 2 in the original dataframe, which is now at the index position 1 in the reindexed dataframe. On the other hand, when we use iloc[2], it returns the row at position 2 in the reindexed dataframe, which was originally at the index label 3."
   ]
  },
  {
   "cell_type": "code",
   "execution_count": 4,
   "id": "66cf9ffc-73c9-4b9a-9505-3b81cb786109",
   "metadata": {},
   "outputs": [
    {
     "name": "stdout",
     "output_type": "stream",
     "text": [
      "Mean of each column:\n",
      " column_1    0.493027\n",
      "column_2    0.619002\n",
      "column_3    0.588643\n",
      "column_4    0.396327\n",
      "column_5    0.513682\n",
      "column_6    0.609504\n",
      "dtype: float64\n",
      "Standard deviation of column 'column_2': 0.33841072318917126\n"
     ]
    }
   ],
   "source": [
    "#4. Write a code to find the following statistical measurements for the above dataframe df1:\n",
    "\n",
    "#(i) mean of each and every column present in the dataframe.\n",
    "\n",
    "#(ii) standard deviation of column, ‘column_2’\n",
    "\n",
    "#Ans\n",
    "\n",
    "import pandas as pd\n",
    "import numpy as np\n",
    "columns = ['column_1', 'column_2', 'column_3', 'column_4', 'column_5', 'column_6']\n",
    "indices = [1,2,3,4,5,6]\n",
    "df1 = pd.DataFrame(np.random.rand(6,6), columns = columns, index = indices)\n",
    "# finding the mean of each column\n",
    "col_means = df1.mean()\n",
    "print(\"Mean of each column:\\n\", col_means)\n",
    "# finding the standard deviation of column 'column_2'\n",
    "col_std = df1['column_2'].std()\n",
    "print(\"Standard deviation of column 'column_2':\", col_std)"
   ]
  },
  {
   "cell_type": "code",
   "execution_count": 6,
   "id": "6367e0ed-d5ff-4bac-b108-47debe5cf864",
   "metadata": {},
   "outputs": [
    {
     "name": "stdout",
     "output_type": "stream",
     "text": [
      "Mean of column 'column_2': 0.31265469592174\n"
     ]
    }
   ],
   "source": [
    "#5. Replace the data present in the second row of column, ‘column_2’ by a string variable then find the mean of column, column_2.\n",
    "\n",
    "#If you are getting errors in executing it then explain why.\n",
    "\n",
    "#[Hint: To replace the data use df1.loc[] and equate this to string data of your choice.]\n",
    "\n",
    "#Ans\n",
    "\n",
    "import pandas as pd\n",
    "import numpy as np\n",
    "columns = ['column_1', 'column_2', 'column_3', 'column_4', 'column_5', 'column_6']\n",
    "indices = [1,2,3,4,5,6]\n",
    "df1 = pd.DataFrame(np.random.rand(6,6), columns = columns, index = indices)\n",
    "# replacing the data in the second row of column 'column_2' with a string variable\n",
    "df1.loc[2, 'column_2'] = \"string data\"\n",
    "# converting the values in column 'column_2' to numeric type\n",
    "df1['column_2'] = pd.to_numeric(df1['column_2'], errors='coerce')\n",
    "# finding the mean of column 'column_2'\n",
    "col2_mean = df1['column_2'].mean()\n",
    "print(\"Mean of column 'column_2':\", col2_mean)\n",
    "\n",
    "#I am not getting any errors"
   ]
  },
  {
   "cell_type": "code",
   "execution_count": 7,
   "id": "6ecfc3c2-bb78-49e0-9d5c-a891b3441441",
   "metadata": {},
   "outputs": [],
   "source": [
    "#6. What do you understand about the windows function in pandas and list the types of windows functions?\n",
    "\n",
    "#Ans \n",
    "\n",
    "#In pandas, a window function (also called a rolling or moving function) is a function that operates on a sliding window of data in a DataFrame or a Series. It can be used to perform various operations on the data, such as smoothing, aggregating, and calculating rolling statistics.\n",
    "\n",
    "#There are several types of window functions in Pandas, including:\n",
    "\n",
    "#1 - Rolling window functions: These functions operate on a rolling window of fixed size, moving across the data from left to right. The size of the window is specified using the window parameter. Some examples of rolling window functions are rolling.mean(), rolling.std(), rolling.min(), rolling.max(), and rolling.sum().\n",
    "\n",
    "#2 - Expanding window functions: These functions operate on an expanding window that starts from the beginning of the data and grows with each data point. The size of the window is not fixed, and all the data points up to the current point are included in the window. Some examples of expanding window functions are expanding.mean(), expanding.std(), expanding.min(), expanding.max(), and expanding.sum().\n",
    "\n",
    "#3 - Exponential weighted functions: These functions apply an exponentially weighted moving average to the data. The weight assigned to each data point is based on its distance from the current point. The closer the data point to the current point, the higher its weight. Some examples of exponential weighted functions are ewm.mean(), ewm.std(), ewm.min(), ewm.max(), and ewm.sum().\n",
    "\n",
    "#4 - Rolling apply functions: These functions apply a custom function to a rolling window of data. The size of the window is specified using the window parameter, and the custom function is specified using the apply() method. Some examples of rolling apply functions are rolling.apply(), rolling.aggregate(), and rolling.transform().\n",
    "\n",
    "#5 - Window statistics functions: These functions calculate various window statistics on the data, such as the variance, skewness, and kurtosis. Some examples of window statistics functions are rolling.var(), rolling.skew(), rolling.kurt(), rolling.corr(), and rolling.cov()."
   ]
  },
  {
   "cell_type": "code",
   "execution_count": 12,
   "id": "27a08c1a-c8d2-4031-a4a6-ded48c700d7b",
   "metadata": {},
   "outputs": [
    {
     "name": "stdout",
     "output_type": "stream",
     "text": [
      "Current month: 2\n",
      "Current year: 2023\n"
     ]
    }
   ],
   "source": [
    "#7. Write a code to print only the current month and year at the time of answering this question.\n",
    "\n",
    "#[Hint: Use pandas.datetime function]\n",
    "\n",
    "#Ans\n",
    "\n",
    "import datetime\n",
    "# Get the current date and time\n",
    "now = datetime.datetime.now()\n",
    "# Extract the current month and year\n",
    "current_month = now.month\n",
    "current_year = now.year\n",
    "# Print the current month and year\n",
    "print(\"Current month:\", current_month)\n",
    "print(\"Current year:\", current_year)"
   ]
  },
  {
   "cell_type": "code",
   "execution_count": 1,
   "id": "d8f87e77-ffa5-4412-80bf-b86193b1b69b",
   "metadata": {},
   "outputs": [
    {
     "name": "stdin",
     "output_type": "stream",
     "text": [
      "Enter the first date (YYYY-MM-DD):  2023-02-01\n",
      "Enter the second date (YYYY-MM-DD):  2023-02-25\n"
     ]
    },
    {
     "name": "stdout",
     "output_type": "stream",
     "text": [
      "The time difference between 2023-02-01 and 2023-02-25 is 24 days, 0 hours, and 0 minutes.\n"
     ]
    }
   ],
   "source": [
    "#8. Write a Python program that takes in two dates as input (in the format YYYY-MM-DD) and calculates the difference between them in days, hours, and minutes using Pandas time delta. The program should prompt the user to enter the dates and display the result.\n",
    "\n",
    "#Ans\n",
    "\n",
    "import pandas as pd\n",
    "# Prompt the user to enter the first date\n",
    "first_date = input(\"Enter the first date (YYYY-MM-DD): \")\n",
    "# Prompt the user to enter the second date\n",
    "second_date = input(\"Enter the second date (YYYY-MM-DD): \")\n",
    "# Convert the input strings to Pandas datetime objects\n",
    "first_datetime = pd.to_datetime(first_date)\n",
    "second_datetime = pd.to_datetime(second_date)\n",
    "# Calculate the time difference between the two dates\n",
    "time_diff = second_datetime - first_datetime\n",
    "# Extract the number of days, hours, and minutes from the time difference\n",
    "num_days = time_diff.days\n",
    "num_hours = int(time_diff.seconds / 3600)\n",
    "num_minutes = int((time_diff.seconds % 3600) / 60)\n",
    "# Display the result\n",
    "print(f\"The time difference between {first_date} and {second_date} is {num_days} days, {num_hours} hours, and {num_minutes} minutes.\")"
   ]
  },
  {
   "cell_type": "code",
   "execution_count": 1,
   "id": "0bbf0905-2d24-42b4-b827-cb75689378c1",
   "metadata": {},
   "outputs": [],
   "source": [
    "#CSV file for Q9\n",
    "\n",
    "import pandas as pd\n",
    "# Create a pandas DataFrame with simple fruit names\n",
    "data = {'Fruit': ['Apple', 'Banana', 'Orange', 'Grape']}\n",
    "df = pd.DataFrame(data)\n",
    "# Save the DataFrame to a CSV file\n",
    "df.to_csv('fruits.csv', index=False)"
   ]
  },
  {
   "cell_type": "code",
   "execution_count": 2,
   "id": "6eb770a2-d33e-4bd7-8c63-e876087d1485",
   "metadata": {},
   "outputs": [
    {
     "name": "stdin",
     "output_type": "stream",
     "text": [
      "Enter the file path:  fruits.csv\n",
      "Enter the column name:  Fruit\n",
      "Enter the category order (comma-separated):  Apple,Banana,Orange,Grape\n"
     ]
    },
    {
     "name": "stdout",
     "output_type": "stream",
     "text": [
      "    Fruit\n",
      "0   Apple\n",
      "1  Banana\n",
      "2  Orange\n",
      "3   Grape\n"
     ]
    }
   ],
   "source": [
    "#9. Write a Python program that reads a CSV file containing categorical data and converts a specified column to a categorical data type. The program should prompt the user to enter the file path, column name, and category order, and then display the sorted data.\n",
    "\n",
    "#Ans\n",
    "\n",
    "import pandas as pd\n",
    "# Prompt user for file path, column name, and category order\n",
    "file_path = input(\"Enter the file path: \")\n",
    "column_name = input(\"Enter the column name: \")\n",
    "category_order = input(\"Enter the category order (comma-separated): \")\n",
    "# Read CSV file into a pandas DataFrame\n",
    "df = pd.read_csv(file_path)\n",
    "# Convert specified column to categorical data type with specified category order\n",
    "df[column_name] = pd.Categorical(df[column_name], categories=category_order.split(\",\"))\n",
    "# Sort the DataFrame by the specified column\n",
    "df = df.sort_values(by=[column_name])\n",
    "# Display the sorted data\n",
    "print(df)"
   ]
  },
  {
   "cell_type": "code",
   "execution_count": 4,
   "id": "66e239cc-6007-432b-979e-d499c1243c19",
   "metadata": {},
   "outputs": [],
   "source": [
    "# CSV file for Q10\n",
    "\n",
    "import pandas as pd\n",
    "# Create a pandas DataFrame with sales data\n",
    "data = {'Date': ['2023-02-01', '2023-02-02', '2023-02-03', '2023-02-04', '2023-02-05', '2023-02-06', '2023-02-07', '2023-03-08', '2023-02-09'],\n",
    "        'Category': ['Electronics', 'Clothing', 'Books', 'Electronics', 'Clothing', 'Books', 'Electronics', 'Clothing', 'Books'],\n",
    "        'Sales': [1000, 500, 200, 800, 700, 300, 1200, 900, 400]}\n",
    "df = pd.DataFrame(data)\n",
    "# Save the DataFrame to a CSV file\n",
    "df.to_csv('sales_data.csv', index=False)"
   ]
  },
  {
   "cell_type": "code",
   "execution_count": 6,
   "id": "f82e89f2-8068-48fd-9dc3-e6f12d0dcde6",
   "metadata": {},
   "outputs": [
    {
     "name": "stdin",
     "output_type": "stream",
     "text": [
      "Enter file path:  sales_data.csv\n"
     ]
    },
    {
     "data": {
      "image/png": "[encoded data removed]",
      "text/plain": [
       "<Figure size 640x480 with 1 Axes>"
      ]
     },
     "metadata": {},
     "output_type": "display_data"
    }
   ],
   "source": [
    "#10. Write a Python program that reads a CSV file containing sales data for different products and visualizes the data using a stacked bar chart to show the sales of each product category over time. The program should prompt the user to enter the file path and display the chart.\n",
    "\n",
    "#Ans\n",
    "\n",
    "import pandas as pd\n",
    "import matplotlib.pyplot as plt\n",
    "# Prompt user to enter file path\n",
    "file_path = input(\"Enter file path: \")\n",
    "# Load data from CSV file using pandas\n",
    "df = pd.read_csv(file_path)\n",
    "# Convert date column to datetime format\n",
    "df['Date'] = pd.to_datetime(df['Date'])\n",
    "# Group data by product category and date, and sum the sales\n",
    "grouped = df.groupby(['Category', 'Date'])['Sales'].sum().unstack()\n",
    "# Plot stacked bar chart\n",
    "grouped.plot(kind='bar', stacked=True)\n",
    "# Set chart title and axis labels\n",
    "plt.title('Sales by Category')\n",
    "plt.xlabel('Date')\n",
    "plt.ylabel('Sales')\n",
    "# Display chart\n",
    "plt.show()"
   ]
  },
  {
   "cell_type": "code",
   "execution_count": 5,
   "id": "a678bd2e-759c-432b-b650-ecaa9ef08af6",
   "metadata": {},
   "outputs": [],
   "source": [
    "# CSV file for Q11\n",
    "\n",
    "\n",
    "import csv\n",
    "\n",
    "# Define the data\n",
    "data = [    ['Student ID', 'Test Score'],\n",
    "    ['1', '85'],\n",
    "    ['2', '90'],\n",
    "    ['3', '80'],\n",
    "    ['4', '75'],\n",
    "    ['5', '85'],\n",
    "    ['6', '82'],\n",
    "    ['7', '78'],\n",
    "    ['8', '85'],\n",
    "    ['9', '90'],\n",
    "    ['10', '85']\n",
    "]\n",
    "\n",
    "# Write the data to the file\n",
    "with open('student_data.csv', mode='w', newline='') as file:\n",
    "    writer = csv.writer(file)\n",
    "    writer.writerows(data)\n"
   ]
  },
  {
   "cell_type": "code",
   "execution_count": 7,
   "id": "f9307a3e-fa21-4e82-b9dc-f1111171510d",
   "metadata": {},
   "outputs": [
    {
     "name": "stdin",
     "output_type": "stream",
     "text": [
      "Enter the file path of the CSV file containing the student data:  student_data.csv\n"
     ]
    },
    {
     "name": "stdout",
     "output_type": "stream",
     "text": [
      "  Statistic Value\n",
      "0      Mean  83.5\n",
      "1    Median  85.0\n",
      "2      Mode  [85]\n"
     ]
    }
   ],
   "source": [
    "#11. You are given a CSV file containing student data that includes the student ID and their test score. Write a Python program that reads the CSV file, calculates the mean, median, and mode of the test scores, and displays the results in a table.\n",
    "\n",
    "#The program should do the following:\n",
    "    \n",
    "#Prompt the user to enter the file path of the CSV file containing the student data. \n",
    "#Read the CSV file into a Pandas DataFrame.\n",
    "#Calculate the mean,median,and mode of the test scores using Pandas tools.\n",
    "#Display the mean,median,and mode in a table.\n",
    "\n",
    "#Assume the CSV file contains the following columns:\n",
    "    \n",
    "#Student ID:The ID of the student.\n",
    "#Test Score:The score of the student's test.\n",
    "\n",
    "#Example usage of the program:\n",
    "\n",
    "#Enter the file path of the CSV file containing the student data: student_data.csv\n",
    "\n",
    "\n",
    "#+-----------+--------+\n",
    "#| Statistic | Value |\n",
    "#+-----------+--------+\n",
    "#|Mean |79.6 |\n",
    "\n",
    "#|Median |82 |\n",
    "\n",
    "#|Mode |85,90|\n",
    "#+-----------+--------+\n",
    "\n",
    "\n",
    "#Assume that the CSV file student_data.csv contains the following data: Student ID,Test Score\n",
    "\n",
    "#1,85\n",
    "#2,90\n",
    "#3,80\n",
    "#4,75\n",
    "#5,85\n",
    "#6,82\n",
    "#7,78\n",
    "#8,85\n",
    "#9,90\n",
    "#10,85\n",
    "\n",
    "#The program should calculate the mean, median, and mode of the test scores and display the results in a table.\n",
    "\n",
    "#Ans\n",
    "\n",
    "import pandas as pd\n",
    "\n",
    "# Prompt the user to enter the file path of the CSV file\n",
    "file_path = input(\"Enter the file path of the CSV file containing the student data: \")\n",
    "\n",
    "# Read the CSV file into a Pandas DataFrame\n",
    "df = pd.read_csv(file_path)\n",
    "\n",
    "# Calculate the mean, median, and mode of the test scores\n",
    "mean = df['Test Score'].mean()\n",
    "median = df['Test Score'].median()\n",
    "mode = list(df['Test Score'].mode())\n",
    "\n",
    "# Display the results in a table\n",
    "table = pd.DataFrame({'Statistic': ['Mean', 'Median', 'Mode'],\n",
    "                      'Value': [mean, median, mode]})\n",
    "print(table)"
   ]
  },
  {
   "cell_type": "code",
   "execution_count": null,
   "id": "a73340bc-5946-428c-b657-7bb0dc7644e9",
   "metadata": {},
   "outputs": [],
   "source": []
  }
 ],
 "metadata": {
  "kernelspec": {
   "display_name": "Python 3 (ipykernel)",
   "language": "python",
   "name": "python3"
  },
  "language_info": {
   "codemirror_mode": {
    "name": "ipython",
    "version": 3
   },
   "file_extension": ".py",
   "mimetype": "text/x-python",
   "name": "python",
   "nbconvert_exporter": "python",
   "pygments_lexer": "ipython3",
   "version": "3.10.8"
  }
 },
 "nbformat": 4,
 "nbformat_minor": 5
}
